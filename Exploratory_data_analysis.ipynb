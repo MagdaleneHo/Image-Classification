{
 "cells": [
  {
   "cell_type": "markdown",
   "metadata": {
    "id": "hySZuSuoaYkm"
   },
   "source": [
    "# Exploratory Data Analysis\n",
    "\n",
    "\n"
   ]
  },
  {
   "cell_type": "markdown",
   "metadata": {
    "id": "zebPD8WG4Oz-"
   },
   "source": [
    "**Notebook Structure** <br>\n",
    "\n",
    "\n",
    "1.   Read File\n",
    "2.   Data Exploration\n",
    "> 2.1 Identify Missing Values <br>\n",
    "  2.2 Categorical Data Exploration <br>\n",
    "  2.3 Continuous Data Exploration <br>\n",
    "  2.4 Correlation Exploration\n",
    "\n",
    "\n",
    "\n",
    "\n",
    "\n"
   ]
  },
  {
   "cell_type": "markdown",
   "metadata": {
    "id": "F6Uc-CRXngAG"
   },
   "source": [
    "# Prepare Environment"
   ]
  },
  {
   "cell_type": "code",
   "execution_count": null,
   "metadata": {
    "id": "tvtO5R5LmX29"
   },
   "outputs": [],
   "source": [
    "%matplotlib inline"
   ]
  },
  {
   "cell_type": "code",
   "execution_count": null,
   "metadata": {
    "id": "Vlc93GlCmcPr"
   },
   "outputs": [],
   "source": [
    "from matplotlib import pyplot as plt\n",
    "import pandas as pd\n",
    "import seaborn as sns \n",
    "import numpy as np "
   ]
  },
  {
   "cell_type": "markdown",
   "metadata": {
    "id": "WKu5j3294HWV"
   },
   "source": [
    "# 1. Read File"
   ]
  },
  {
   "cell_type": "code",
   "execution_count": null,
   "metadata": {
    "colab": {
     "base_uri": "https://localhost:8080/"
    },
    "executionInfo": {
     "elapsed": 20050,
     "status": "ok",
     "timestamp": 1626341264330,
     "user": {
      "displayName": "Karen Khoo",
      "photoUrl": "https://lh3.googleusercontent.com/a-/AOh14Ggmj9glZLAN5tUiVJnMUhHNxbo0vu-kF4N8io1F=s64",
      "userId": "09947812682866573479"
     },
     "user_tz": -480
    },
    "id": "bRWa_TsUaLJq",
    "outputId": "1c8c7829-9dec-4bd4-85cf-ecea280de532"
   },
   "outputs": [
    {
     "name": "stdout",
     "output_type": "stream",
     "text": [
      "Mounted at /content/drive\n"
     ]
    }
   ],
   "source": [
    "# Connect to Google Drive\n",
    "from google.colab import drive\n",
    "drive.mount('/content/drive')"
   ]
  },
  {
   "cell_type": "markdown",
   "metadata": {
    "id": "YWeNhIuh1z4c"
   },
   "source": [
    "**File Directory**\n",
    "\n",
    "<font color=blue>MyDrive/</font> <br>\n",
    "|__ <font color=blue>Colab Notebook/</font> <br>\n",
    "\n",
    "> |__ Exploratory_data_analysis.ipynb <br>\n",
    "  |__ <font color=blue>Fast_Furious_Insured/</font> <br>\n",
    "\n",
    "> >|__ sample_submission.csv <br>\n",
    "   |__ test.csv <br>\n",
    "   |__ train.csv <br>\n",
    "   |__ <font color=blue>testImages/</font> <br>\n",
    "   |__ <font color=blue>trainImages/</font>\n",
    "\n",
    "*Note: Folder in blue*"
   ]
  },
  {
   "cell_type": "code",
   "execution_count": null,
   "metadata": {
    "id": "E1rvU29PyrCj"
   },
   "outputs": [],
   "source": [
    "from pathlib import Path\n",
    "\n",
    "# Get folder path\n",
    "data_path = Path(\"./drive/MyDrive/Colab Notebooks/Fast_Furious_Insured\")"
   ]
  },
  {
   "cell_type": "code",
   "execution_count": null,
   "metadata": {
    "id": "Lnl9rnBGyrqI"
   },
   "outputs": [],
   "source": [
    "# Read csv file into DataFrame\n",
    "train_df = pd.read_csv(data_path/\"train.csv\")"
   ]
  },
  {
   "cell_type": "markdown",
   "metadata": {
    "id": "S_kBEVST43mA"
   },
   "source": [
    "# 2. Data Exploration"
   ]
  },
  {
   "cell_type": "code",
   "execution_count": null,
   "metadata": {
    "colab": {
     "base_uri": "https://localhost:8080/",
     "height": 219
    },
    "executionInfo": {
     "elapsed": 340,
     "status": "ok",
     "timestamp": 1626341279148,
     "user": {
      "displayName": "Karen Khoo",
      "photoUrl": "https://lh3.googleusercontent.com/a-/AOh14Ggmj9glZLAN5tUiVJnMUhHNxbo0vu-kF4N8io1F=s64",
      "userId": "09947812682866573479"
     },
     "user_tz": -480
    },
    "id": "kl8T9l9J47Cm",
    "outputId": "67948533-5502-4a37-9b17-2fa9f38a7eea"
   },
   "outputs": [
    {
     "name": "stdout",
     "output_type": "stream",
     "text": [
      "(1399, 8)\n"
     ]
    },
    {
     "data": {
      "text/html": [
       "<div>\n",
       "<style scoped>\n",
       "    .dataframe tbody tr th:only-of-type {\n",
       "        vertical-align: middle;\n",
       "    }\n",
       "\n",
       "    .dataframe tbody tr th {\n",
       "        vertical-align: top;\n",
       "    }\n",
       "\n",
       "    .dataframe thead th {\n",
       "        text-align: right;\n",
       "    }\n",
       "</style>\n",
       "<table border=\"1\" class=\"dataframe\">\n",
       "  <thead>\n",
       "    <tr style=\"text-align: right;\">\n",
       "      <th></th>\n",
       "      <th>Image_path</th>\n",
       "      <th>Insurance_company</th>\n",
       "      <th>Cost_of_vehicle</th>\n",
       "      <th>Min_coverage</th>\n",
       "      <th>Expiry_date</th>\n",
       "      <th>Max_coverage</th>\n",
       "      <th>Condition</th>\n",
       "      <th>Amount</th>\n",
       "    </tr>\n",
       "  </thead>\n",
       "  <tbody>\n",
       "    <tr>\n",
       "      <th>0</th>\n",
       "      <td>img_4513976.jpg</td>\n",
       "      <td>BQ</td>\n",
       "      <td>41500.0</td>\n",
       "      <td>1037.5</td>\n",
       "      <td>2026-12-03</td>\n",
       "      <td>36142.68</td>\n",
       "      <td>0</td>\n",
       "      <td>0.0</td>\n",
       "    </tr>\n",
       "    <tr>\n",
       "      <th>1</th>\n",
       "      <td>img_7764995.jpg</td>\n",
       "      <td>BQ</td>\n",
       "      <td>50700.0</td>\n",
       "      <td>1267.5</td>\n",
       "      <td>2025-07-10</td>\n",
       "      <td>12753.00</td>\n",
       "      <td>1</td>\n",
       "      <td>6194.0</td>\n",
       "    </tr>\n",
       "    <tr>\n",
       "      <th>2</th>\n",
       "      <td>img_451308.jpg</td>\n",
       "      <td>A</td>\n",
       "      <td>49500.0</td>\n",
       "      <td>1237.5</td>\n",
       "      <td>2022-08-11</td>\n",
       "      <td>43102.68</td>\n",
       "      <td>0</td>\n",
       "      <td>0.0</td>\n",
       "    </tr>\n",
       "    <tr>\n",
       "      <th>3</th>\n",
       "      <td>img_7768372.jpg</td>\n",
       "      <td>A</td>\n",
       "      <td>33500.0</td>\n",
       "      <td>837.5</td>\n",
       "      <td>2022-08-02</td>\n",
       "      <td>8453.00</td>\n",
       "      <td>1</td>\n",
       "      <td>7699.0</td>\n",
       "    </tr>\n",
       "    <tr>\n",
       "      <th>4</th>\n",
       "      <td>img_7765274.jpg</td>\n",
       "      <td>AC</td>\n",
       "      <td>27600.0</td>\n",
       "      <td>690.0</td>\n",
       "      <td>2026-05-01</td>\n",
       "      <td>6978.00</td>\n",
       "      <td>1</td>\n",
       "      <td>8849.0</td>\n",
       "    </tr>\n",
       "  </tbody>\n",
       "</table>\n",
       "</div>"
      ],
      "text/plain": [
       "        Image_path Insurance_company  ...  Condition  Amount\n",
       "0  img_4513976.jpg                BQ  ...          0     0.0\n",
       "1  img_7764995.jpg                BQ  ...          1  6194.0\n",
       "2   img_451308.jpg                 A  ...          0     0.0\n",
       "3  img_7768372.jpg                 A  ...          1  7699.0\n",
       "4  img_7765274.jpg                AC  ...          1  8849.0\n",
       "\n",
       "[5 rows x 8 columns]"
      ]
     },
     "execution_count": 8,
     "metadata": {
      "tags": []
     },
     "output_type": "execute_result"
    }
   ],
   "source": [
    "# Print the shape to know number of rows and columns in table\n",
    "print(train_df.shape)\n",
    "\n",
    "# Display the first 5 rows\n",
    "train_df.head(5)"
   ]
  },
  {
   "cell_type": "markdown",
   "metadata": {
    "id": "yS6Jx6eosC4M"
   },
   "source": [
    "## 2.1 Identify Missing Values\n"
   ]
  },
  {
   "cell_type": "code",
   "execution_count": null,
   "metadata": {
    "colab": {
     "base_uri": "https://localhost:8080/"
    },
    "executionInfo": {
     "elapsed": 320,
     "status": "ok",
     "timestamp": 1626341282625,
     "user": {
      "displayName": "Karen Khoo",
      "photoUrl": "https://lh3.googleusercontent.com/a-/AOh14Ggmj9glZLAN5tUiVJnMUhHNxbo0vu-kF4N8io1F=s64",
      "userId": "09947812682866573479"
     },
     "user_tz": -480
    },
    "id": "FJmJUDdcSdVQ",
    "outputId": "8dc5ef10-cda5-45bc-aea0-42553c497d21"
   },
   "outputs": [
    {
     "data": {
      "text/plain": [
       "Image_path            0\n",
       "Insurance_company     0\n",
       "Cost_of_vehicle      89\n",
       "Min_coverage         89\n",
       "Expiry_date           0\n",
       "Max_coverage         89\n",
       "Condition             0\n",
       "Amount               11\n",
       "dtype: int64"
      ]
     },
     "execution_count": 9,
     "metadata": {
      "tags": []
     },
     "output_type": "execute_result"
    }
   ],
   "source": [
    "# Checking for missing values\n",
    "train_df.isnull().sum()"
   ]
  },
  {
   "cell_type": "code",
   "execution_count": null,
   "metadata": {
    "colab": {
     "base_uri": "https://localhost:8080/",
     "height": 417
    },
    "executionInfo": {
     "elapsed": 317,
     "status": "ok",
     "timestamp": 1626234904568,
     "user": {
      "displayName": "Song An Low",
      "photoUrl": "",
      "userId": "02817078657612646306"
     },
     "user_tz": -480
    },
    "id": "4lTrjSG8si-m",
    "outputId": "9586583b-d1f1-4937-ddec-9291eb55f779"
   },
   "outputs": [
    {
     "data": {
      "text/html": [
       "<div>\n",
       "<style scoped>\n",
       "    .dataframe tbody tr th:only-of-type {\n",
       "        vertical-align: middle;\n",
       "    }\n",
       "\n",
       "    .dataframe tbody tr th {\n",
       "        vertical-align: top;\n",
       "    }\n",
       "\n",
       "    .dataframe thead th {\n",
       "        text-align: right;\n",
       "    }\n",
       "</style>\n",
       "<table border=\"1\" class=\"dataframe\">\n",
       "  <thead>\n",
       "    <tr style=\"text-align: right;\">\n",
       "      <th></th>\n",
       "      <th>Image_path</th>\n",
       "      <th>Insurance_company</th>\n",
       "      <th>Cost_of_vehicle</th>\n",
       "      <th>Min_coverage</th>\n",
       "      <th>Expiry_date</th>\n",
       "      <th>Max_coverage</th>\n",
       "      <th>Condition</th>\n",
       "      <th>Amount</th>\n",
       "    </tr>\n",
       "  </thead>\n",
       "  <tbody>\n",
       "    <tr>\n",
       "      <th>8</th>\n",
       "      <td>img_7767281.jpg</td>\n",
       "      <td>DA</td>\n",
       "      <td>NaN</td>\n",
       "      <td>NaN</td>\n",
       "      <td>2028-06-07</td>\n",
       "      <td>NaN</td>\n",
       "      <td>1</td>\n",
       "      <td>513.0</td>\n",
       "    </tr>\n",
       "    <tr>\n",
       "      <th>13</th>\n",
       "      <td>img_7767681.jpg</td>\n",
       "      <td>DA</td>\n",
       "      <td>NaN</td>\n",
       "      <td>NaN</td>\n",
       "      <td>2026-05-28</td>\n",
       "      <td>NaN</td>\n",
       "      <td>1</td>\n",
       "      <td>7983.0</td>\n",
       "    </tr>\n",
       "    <tr>\n",
       "      <th>14</th>\n",
       "      <td>img_4536138.jpg</td>\n",
       "      <td>C</td>\n",
       "      <td>NaN</td>\n",
       "      <td>NaN</td>\n",
       "      <td>2022-01-12</td>\n",
       "      <td>NaN</td>\n",
       "      <td>1</td>\n",
       "      <td>6532.0</td>\n",
       "    </tr>\n",
       "    <tr>\n",
       "      <th>21</th>\n",
       "      <td>img_4636799.jpg</td>\n",
       "      <td>AC</td>\n",
       "      <td>NaN</td>\n",
       "      <td>NaN</td>\n",
       "      <td>2027-04-13</td>\n",
       "      <td>NaN</td>\n",
       "      <td>1</td>\n",
       "      <td>470.0</td>\n",
       "    </tr>\n",
       "    <tr>\n",
       "      <th>23</th>\n",
       "      <td>img_7768147.jpg</td>\n",
       "      <td>O</td>\n",
       "      <td>NaN</td>\n",
       "      <td>NaN</td>\n",
       "      <td>2024-08-21</td>\n",
       "      <td>NaN</td>\n",
       "      <td>1</td>\n",
       "      <td>7870.0</td>\n",
       "    </tr>\n",
       "    <tr>\n",
       "      <th>...</th>\n",
       "      <td>...</td>\n",
       "      <td>...</td>\n",
       "      <td>...</td>\n",
       "      <td>...</td>\n",
       "      <td>...</td>\n",
       "      <td>...</td>\n",
       "      <td>...</td>\n",
       "      <td>...</td>\n",
       "    </tr>\n",
       "    <tr>\n",
       "      <th>1264</th>\n",
       "      <td>img_4635854.jpg</td>\n",
       "      <td>O</td>\n",
       "      <td>NaN</td>\n",
       "      <td>NaN</td>\n",
       "      <td>2028-02-17</td>\n",
       "      <td>NaN</td>\n",
       "      <td>1</td>\n",
       "      <td>395.0</td>\n",
       "    </tr>\n",
       "    <tr>\n",
       "      <th>1265</th>\n",
       "      <td>img_4514917.jpg</td>\n",
       "      <td>DA</td>\n",
       "      <td>NaN</td>\n",
       "      <td>NaN</td>\n",
       "      <td>2023-05-02</td>\n",
       "      <td>NaN</td>\n",
       "      <td>1</td>\n",
       "      <td>5922.0</td>\n",
       "    </tr>\n",
       "    <tr>\n",
       "      <th>1321</th>\n",
       "      <td>img_7765224.jpg</td>\n",
       "      <td>A</td>\n",
       "      <td>NaN</td>\n",
       "      <td>NaN</td>\n",
       "      <td>2025-11-21</td>\n",
       "      <td>NaN</td>\n",
       "      <td>1</td>\n",
       "      <td>2698.0</td>\n",
       "    </tr>\n",
       "    <tr>\n",
       "      <th>1372</th>\n",
       "      <td>img_4636777.jpg</td>\n",
       "      <td>A</td>\n",
       "      <td>NaN</td>\n",
       "      <td>NaN</td>\n",
       "      <td>2028-06-01</td>\n",
       "      <td>NaN</td>\n",
       "      <td>1</td>\n",
       "      <td>5752.0</td>\n",
       "    </tr>\n",
       "    <tr>\n",
       "      <th>1398</th>\n",
       "      <td>img_4636333.jpg</td>\n",
       "      <td>B</td>\n",
       "      <td>NaN</td>\n",
       "      <td>NaN</td>\n",
       "      <td>2024-10-30</td>\n",
       "      <td>NaN</td>\n",
       "      <td>1</td>\n",
       "      <td>NaN</td>\n",
       "    </tr>\n",
       "  </tbody>\n",
       "</table>\n",
       "<p>98 rows × 8 columns</p>\n",
       "</div>"
      ],
      "text/plain": [
       "           Image_path Insurance_company  ...  Condition  Amount\n",
       "8     img_7767281.jpg                DA  ...          1   513.0\n",
       "13    img_7767681.jpg                DA  ...          1  7983.0\n",
       "14    img_4536138.jpg                 C  ...          1  6532.0\n",
       "21    img_4636799.jpg                AC  ...          1   470.0\n",
       "23    img_7768147.jpg                 O  ...          1  7870.0\n",
       "...               ...               ...  ...        ...     ...\n",
       "1264  img_4635854.jpg                 O  ...          1   395.0\n",
       "1265  img_4514917.jpg                DA  ...          1  5922.0\n",
       "1321  img_7765224.jpg                 A  ...          1  2698.0\n",
       "1372  img_4636777.jpg                 A  ...          1  5752.0\n",
       "1398  img_4636333.jpg                 B  ...          1     NaN\n",
       "\n",
       "[98 rows x 8 columns]"
      ]
     },
     "execution_count": 8,
     "metadata": {
      "tags": []
     },
     "output_type": "execute_result"
    }
   ],
   "source": [
    "# Display rows with missing values\n",
    "train_df[train_df.isnull().any(axis=1)]"
   ]
  },
  {
   "cell_type": "markdown",
   "metadata": {
    "id": "AMIeao4_tvyN"
   },
   "source": [
    "## 2.2 Categorical Data Exploration "
   ]
  },
  {
   "cell_type": "code",
   "execution_count": null,
   "metadata": {
    "id": "PElPOJd0SXvL"
   },
   "outputs": [],
   "source": [
    "# Set style - colormap\n",
    "my_cmap = plt.cm.get_cmap('tab10')"
   ]
  },
  {
   "cell_type": "code",
   "execution_count": null,
   "metadata": {
    "colab": {
     "base_uri": "https://localhost:8080/"
    },
    "executionInfo": {
     "elapsed": 314,
     "status": "ok",
     "timestamp": 1626235013329,
     "user": {
      "displayName": "Song An Low",
      "photoUrl": "",
      "userId": "02817078657612646306"
     },
     "user_tz": -480
    },
    "id": "s0lPO0lDSjIY",
    "outputId": "fee391d7-0a71-49ee-d65c-b5959ee6fa41"
   },
   "outputs": [
    {
     "name": "stdout",
     "output_type": "stream",
     "text": [
      "Insurance company: ['BQ' 'A' 'AC' 'BC' 'DA' 'BB' 'C' 'O' 'B' 'AA' 'RE']\n",
      "Condition: [0 1]\n"
     ]
    }
   ],
   "source": [
    "# List out unique values for categorical attributes\n",
    "print(\"Insurance company:\", train_df['Insurance_company'].unique())\n",
    "print(\"Condition:\", train_df['Condition'].unique())"
   ]
  },
  {
   "cell_type": "code",
   "execution_count": null,
   "metadata": {
    "id": "J6HSROWHt06R"
   },
   "outputs": [],
   "source": [
    "# Define funtion to plot bar chart\n",
    "def plot_bar(name, var_data):\n",
    "    # Plot bar for categorical value by count\n",
    "    count = var_data.value_counts().plot.bar(color=my_cmap.colors)\n",
    "\n",
    "    # Customize the chart\n",
    "    plt.title('Bar Chart for ' + name)\n",
    "    plt.ylabel('Frequency')\n",
    "    plt.xticks(rotation=0)\n",
    "\n",
    "    # Label values on bar chart\n",
    "    for p in count.patches:\n",
    "        count.annotate(format(p.get_height(), '.0f'), \n",
    "                       (p.get_x() + p.get_width() / 2., p.get_height()), \n",
    "                       ha = 'center', va = 'center', \n",
    "                       xytext = (0, 5), \n",
    "                       textcoords = 'offset points')\n",
    "\n",
    "    # Save as png\n",
    "    #plt.savefig(name + '.png', bbox_inches='tight')\n",
    "\n",
    "    # Display the plot\n",
    "    plt.show()"
   ]
  },
  {
   "cell_type": "code",
   "execution_count": null,
   "metadata": {
    "id": "SMIodeWsTFsd"
   },
   "outputs": [],
   "source": [
    "# Get the variable to examine\n",
    "name = \"Insurance Company\"\n",
    "var_data = train_df[\"Insurance_company\"]\n",
    "\n",
    "# Call the function to plot bar chart\n",
    "plot_bar(name, var_data)"
   ]
  },
  {
   "cell_type": "code",
   "execution_count": null,
   "metadata": {
    "colab": {
     "base_uri": "https://localhost:8080/",
     "height": 281
    },
    "executionInfo": {
     "elapsed": 352,
     "status": "ok",
     "timestamp": 1626235047432,
     "user": {
      "displayName": "Song An Low",
      "photoUrl": "",
      "userId": "02817078657612646306"
     },
     "user_tz": -480
    },
    "id": "m_fjOhqmTtG0",
    "outputId": "4cdf547f-4a8e-411a-f317-688409c6d60d"
   },
   "outputs": [
    {
     "data": {
      "image/png": "[encoded data removed]",
      "text/plain": [
       "<Figure size 432x288 with 1 Axes>"
      ]
     },
     "metadata": {
      "needs_background": "light",
      "tags": []
     },
     "output_type": "display_data"
    }
   ],
   "source": [
    "# Get the variable to examine\n",
    "name = \"Condition\"\n",
    "var_data = train_df[\"Condition\"]\n",
    "\n",
    "# Call the function to plot bar chart\n",
    "plot_bar(name, var_data)"
   ]
  },
  {
   "cell_type": "markdown",
   "metadata": {
    "id": "uvtbrIt-KavF"
   },
   "source": [
    "## 2.3 Continuous Data Exploration "
   ]
  },
  {
   "cell_type": "code",
   "execution_count": null,
   "metadata": {
    "colab": {
     "base_uri": "https://localhost:8080/",
     "height": 295
    },
    "executionInfo": {
     "elapsed": 322,
     "status": "ok",
     "timestamp": 1626235357968,
     "user": {
      "displayName": "Song An Low",
      "photoUrl": "",
      "userId": "02817078657612646306"
     },
     "user_tz": -480
    },
    "id": "kI9igF0vU5i_",
    "outputId": "951673ed-2d33-4410-a39d-c37def122bb2"
   },
   "outputs": [
    {
     "data": {
      "text/html": [
       "<div>\n",
       "<style scoped>\n",
       "    .dataframe tbody tr th:only-of-type {\n",
       "        vertical-align: middle;\n",
       "    }\n",
       "\n",
       "    .dataframe tbody tr th {\n",
       "        vertical-align: top;\n",
       "    }\n",
       "\n",
       "    .dataframe thead th {\n",
       "        text-align: right;\n",
       "    }\n",
       "</style>\n",
       "<table border=\"1\" class=\"dataframe\">\n",
       "  <thead>\n",
       "    <tr style=\"text-align: right;\">\n",
       "      <th></th>\n",
       "      <th>Cost_of_vehicle</th>\n",
       "      <th>Min_coverage</th>\n",
       "      <th>Max_coverage</th>\n",
       "      <th>Condition</th>\n",
       "      <th>Amount</th>\n",
       "    </tr>\n",
       "  </thead>\n",
       "  <tbody>\n",
       "    <tr>\n",
       "      <th>count</th>\n",
       "      <td>1310.000000</td>\n",
       "      <td>1310.000000</td>\n",
       "      <td>1310.000000</td>\n",
       "      <td>1399.000000</td>\n",
       "      <td>1388.000000</td>\n",
       "    </tr>\n",
       "    <tr>\n",
       "      <th>mean</th>\n",
       "      <td>37454.274809</td>\n",
       "      <td>936.356870</td>\n",
       "      <td>11242.925160</td>\n",
       "      <td>0.929235</td>\n",
       "      <td>4117.144092</td>\n",
       "    </tr>\n",
       "    <tr>\n",
       "      <th>std</th>\n",
       "      <td>8921.428143</td>\n",
       "      <td>223.035704</td>\n",
       "      <td>7163.735952</td>\n",
       "      <td>0.256523</td>\n",
       "      <td>3151.516223</td>\n",
       "    </tr>\n",
       "    <tr>\n",
       "      <th>min</th>\n",
       "      <td>11100.000000</td>\n",
       "      <td>277.500000</td>\n",
       "      <td>2853.000000</td>\n",
       "      <td>0.000000</td>\n",
       "      <td>-999.000000</td>\n",
       "    </tr>\n",
       "    <tr>\n",
       "      <th>25%</th>\n",
       "      <td>29800.000000</td>\n",
       "      <td>745.000000</td>\n",
       "      <td>7603.000000</td>\n",
       "      <td>1.000000</td>\n",
       "      <td>1641.750000</td>\n",
       "    </tr>\n",
       "    <tr>\n",
       "      <th>50%</th>\n",
       "      <td>37300.000000</td>\n",
       "      <td>932.500000</td>\n",
       "      <td>9678.000000</td>\n",
       "      <td>1.000000</td>\n",
       "      <td>4070.000000</td>\n",
       "    </tr>\n",
       "    <tr>\n",
       "      <th>75%</th>\n",
       "      <td>45175.000000</td>\n",
       "      <td>1129.375000</td>\n",
       "      <td>11703.000000</td>\n",
       "      <td>1.000000</td>\n",
       "      <td>6039.500000</td>\n",
       "    </tr>\n",
       "    <tr>\n",
       "      <th>max</th>\n",
       "      <td>53500.000000</td>\n",
       "      <td>1337.500000</td>\n",
       "      <td>46495.680000</td>\n",
       "      <td>1.000000</td>\n",
       "      <td>59844.000000</td>\n",
       "    </tr>\n",
       "  </tbody>\n",
       "</table>\n",
       "</div>"
      ],
      "text/plain": [
       "       Cost_of_vehicle  Min_coverage  Max_coverage    Condition        Amount\n",
       "count      1310.000000   1310.000000   1310.000000  1399.000000   1388.000000\n",
       "mean      37454.274809    936.356870  11242.925160     0.929235   4117.144092\n",
       "std        8921.428143    223.035704   7163.735952     0.256523   3151.516223\n",
       "min       11100.000000    277.500000   2853.000000     0.000000   -999.000000\n",
       "25%       29800.000000    745.000000   7603.000000     1.000000   1641.750000\n",
       "50%       37300.000000    932.500000   9678.000000     1.000000   4070.000000\n",
       "75%       45175.000000   1129.375000  11703.000000     1.000000   6039.500000\n",
       "max       53500.000000   1337.500000  46495.680000     1.000000  59844.000000"
      ]
     },
     "execution_count": 15,
     "metadata": {
      "tags": []
     },
     "output_type": "execute_result"
    }
   ],
   "source": [
    "# View the distribution of continuous attributes\n",
    "train_df.describe()"
   ]
  },
  {
   "cell_type": "code",
   "execution_count": null,
   "metadata": {
    "id": "4oiotB2ioDNU"
   },
   "outputs": [],
   "source": [
    "# Define function to plot histogram and boxplot\n",
    "def show_distribution(name, var_data):\n",
    "\n",
    "    # Get statistics\n",
    "    min_val = var_data.min()\n",
    "    max_val = var_data.max()\n",
    "    mean_val = var_data.mean()\n",
    "    med_val = var_data.median()\n",
    "    mod_val = var_data.mode()[0]\n",
    "\n",
    "    print('Minimum:{:.2f}\\nMean:{:.2f}\\nMedian:{:.2f}\\nMode:{:.2f}\\nMaximum:{:.2f}\\n'.format(min_val,\n",
    "                                                                                            mean_val,\n",
    "                                                                                            med_val,\n",
    "                                                                                            mod_val,\n",
    "                                                                                            max_val))\n",
    "\n",
    "    # Create a figure for 2 subplots (2 rows, 1 column)\n",
    "    fig, ax = plt.subplots(2, 1, figsize = (10,4))\n",
    "\n",
    "    # Plot the histogram   \n",
    "    ax[0].hist(var_data)\n",
    "    ax[0].set_ylabel('Frequency')\n",
    "\n",
    "    # Add lines for the mean, median, and mode\n",
    "    ax[0].axvline(x=min_val, color = 'gray', linestyle='dashed', linewidth = 2)\n",
    "    ax[0].axvline(x=mean_val, color = 'cyan', linestyle='dashed', linewidth = 2)\n",
    "    ax[0].axvline(x=med_val, color = 'red', linestyle='dashed', linewidth = 2)\n",
    "    ax[0].axvline(x=mod_val, color = 'yellow', linestyle='dashed', linewidth = 2)\n",
    "    ax[0].axvline(x=max_val, color = 'gray', linestyle='dashed', linewidth = 2)\n",
    "\n",
    "    # Plot the boxplot   \n",
    "    ax[1].boxplot(var_data, vert=False)\n",
    "    ax[1].set_xlabel('Value')\n",
    "\n",
    "    # Add a title to the figure\n",
    "    fig.suptitle(name + ' Data Distribution')\n",
    "    \n",
    "    # Save as png\n",
    "    #fig.savefig(name + '.png', bbox_inches='tight')\n",
    "\n",
    "    # Show the figure\n",
    "    fig.show()\n"
   ]
  },
  {
   "cell_type": "code",
   "execution_count": null,
   "metadata": {
    "id": "0o9o4XEwKxGk"
   },
   "outputs": [],
   "source": [
    "# Define function for different missing value imputation methods\n",
    "def impute_missing(df, option):\n",
    "  # Option 1: Fill missing values with values from next row, fill with 0 if there are still missing values\n",
    "  if option == 1:\n",
    "    df = df.fillna(method='bfill', axis=0).fillna(0)\n",
    "\n",
    "  # Option 2: Fill missing values with mean\n",
    "  elif option == 2:\n",
    "    df = df.fillna(df.mean())\n",
    "\n",
    "  # Option 3: Fill missing values with 0\n",
    "  elif option == 3:\n",
    "    df = df.fillna(0)\n",
    "\n",
    "  # Option 4: Remove rows with missing values\n",
    "  elif option == 4:\n",
    "    df = df.dropna(axis=0, how='any')\n",
    "\n",
    "  return df"
   ]
  },
  {
   "cell_type": "code",
   "execution_count": null,
   "metadata": {
    "id": "S7mse2tdK9SH"
   },
   "outputs": [],
   "source": [
    "# Impute missing value to display proper boxplot\n",
    "# Current chosen imputation method: remove missing value\n",
    "imputed_df = impute_missing(train_df, 4)"
   ]
  },
  {
   "cell_type": "code",
   "execution_count": null,
   "metadata": {
    "colab": {
     "base_uri": "https://localhost:8080/",
     "height": 409
    },
    "executionInfo": {
     "elapsed": 1037,
     "status": "ok",
     "timestamp": 1626235390560,
     "user": {
      "displayName": "Song An Low",
      "photoUrl": "",
      "userId": "02817078657612646306"
     },
     "user_tz": -480
    },
    "id": "q7e0OhgmwonB",
    "outputId": "ef7430ba-5245-411f-d4a7-939cd3492c90"
   },
   "outputs": [
    {
     "name": "stdout",
     "output_type": "stream",
     "text": [
      "Minimum:11100.00\n",
      "Mean:37472.33\n",
      "Median:37300.00\n",
      "Mode:30800.00\n",
      "Maximum:53500.00\n",
      "\n"
     ]
    },
    {
     "data": {
      "image/png": "[encoded data removed]",
      "text/plain": [
       "<Figure size 720x288 with 2 Axes>"
      ]
     },
     "metadata": {
      "needs_background": "light",
      "tags": []
     },
     "output_type": "display_data"
    }
   ],
   "source": [
    "# Get the variable to examine\n",
    "col = imputed_df['Cost_of_vehicle']\n",
    "\n",
    "# Call the function\n",
    "show_distribution('Cost_of_vehicle', col)"
   ]
  },
  {
   "cell_type": "code",
   "execution_count": null,
   "metadata": {
    "colab": {
     "base_uri": "https://localhost:8080/",
     "height": 409
    },
    "executionInfo": {
     "elapsed": 1112,
     "status": "ok",
     "timestamp": 1626235418056,
     "user": {
      "displayName": "Song An Low",
      "photoUrl": "",
      "userId": "02817078657612646306"
     },
     "user_tz": -480
    },
    "id": "beKmxY6SoPpz",
    "outputId": "bbc5c3b2-f225-4cb4-80e8-39aec5a90170"
   },
   "outputs": [
    {
     "name": "stdout",
     "output_type": "stream",
     "text": [
      "Minimum:277.50\n",
      "Mean:936.81\n",
      "Median:932.50\n",
      "Mode:770.00\n",
      "Maximum:1337.50\n",
      "\n"
     ]
    },
    {
     "data": {
      "image/png": "[encoded data removed]",
      "text/plain": [
       "<Figure size 720x288 with 2 Axes>"
      ]
     },
     "metadata": {
      "needs_background": "light",
      "tags": []
     },
     "output_type": "display_data"
    }
   ],
   "source": [
    "# Get the variable to examine\n",
    "col = imputed_df['Min_coverage']\n",
    "\n",
    "# Call the function\n",
    "show_distribution('Min_coverage', col)"
   ]
  },
  {
   "cell_type": "code",
   "execution_count": null,
   "metadata": {
    "colab": {
     "base_uri": "https://localhost:8080/",
     "height": 409
    },
    "executionInfo": {
     "elapsed": 2825,
     "status": "ok",
     "timestamp": 1626235424803,
     "user": {
      "displayName": "Song An Low",
      "photoUrl": "",
      "userId": "02817078657612646306"
     },
     "user_tz": -480
    },
    "id": "czj1t-_JwpLP",
    "outputId": "d5c51510-95d5-4e56-d78a-636261040e32"
   },
   "outputs": [
    {
     "name": "stdout",
     "output_type": "stream",
     "text": [
      "Minimum:2853.00\n",
      "Mean:11259.90\n",
      "Median:9678.00\n",
      "Mode:7778.00\n",
      "Maximum:46495.68\n",
      "\n"
     ]
    },
    {
     "data": {
      "image/png": "[encoded data removed]",
      "text/plain": [
       "<Figure size 720x288 with 2 Axes>"
      ]
     },
     "metadata": {
      "needs_background": "light",
      "tags": []
     },
     "output_type": "display_data"
    }
   ],
   "source": [
    "# Get the variable to examine\n",
    "col = imputed_df['Max_coverage']\n",
    "\n",
    "# Call the function\n",
    "show_distribution('Max_coverage', col)"
   ]
  },
  {
   "cell_type": "code",
   "execution_count": null,
   "metadata": {
    "colab": {
     "base_uri": "https://localhost:8080/",
     "height": 409
    },
    "executionInfo": {
     "elapsed": 1127,
     "status": "ok",
     "timestamp": 1626235429167,
     "user": {
      "displayName": "Song An Low",
      "photoUrl": "",
      "userId": "02817078657612646306"
     },
     "user_tz": -480
    },
    "id": "8ijO7pekwpxX",
    "outputId": "96c14bbd-7afd-4fdf-b166-67d770639262"
   },
   "outputs": [
    {
     "name": "stdout",
     "output_type": "stream",
     "text": [
      "Minimum:0.00\n",
      "Mean:4105.47\n",
      "Median:4048.00\n",
      "Mode:0.00\n",
      "Maximum:59844.00\n",
      "\n"
     ]
    },
    {
     "data": {
      "image/png": "[encoded data removed]",
      "text/plain": [
       "<Figure size 720x288 with 2 Axes>"
      ]
     },
     "metadata": {
      "needs_background": "light",
      "tags": []
     },
     "output_type": "display_data"
    }
   ],
   "source": [
    "# Get the variable to examine\n",
    "col = imputed_df['Amount']\n",
    "\n",
    "# Call the function\n",
    "show_distribution('Amount', col)"
   ]
  },
  {
   "cell_type": "markdown",
   "metadata": {
    "id": "3xNm5QDbL3NI"
   },
   "source": [
    "## 2.4 Correlation Exploration"
   ]
  },
  {
   "cell_type": "code",
   "execution_count": null,
   "metadata": {
    "colab": {
     "base_uri": "https://localhost:8080/",
     "height": 500
    },
    "executionInfo": {
     "elapsed": 1193,
     "status": "ok",
     "timestamp": 1626235524914,
     "user": {
      "displayName": "Song An Low",
      "photoUrl": "",
      "userId": "02817078657612646306"
     },
     "user_tz": -480
    },
    "id": "nceXxUmGxObA",
    "outputId": "27aa4aff-63a9-408c-d495-eca6da2278b2"
   },
   "outputs": [
    {
     "data": {
      "image/png": "[encoded data removed]",
      "text/plain": [
       "<Figure size 1080x576 with 2 Axes>"
      ]
     },
     "metadata": {
      "needs_background": "light",
      "tags": []
     },
     "output_type": "display_data"
    }
   ],
   "source": [
    "# Correlation heatmap\n",
    "corr = train_df.corr(method='pearson')\n",
    "\n",
    "plt.figure(figsize=(15,8))\n",
    "sns.heatmap(corr, annot=True, vmin=-1, vmax=1, center= 0, cmap= 'coolwarm')\n",
    "train_df.columns\n",
    "\n",
    "plt.title(\"Pearson's Correlation Plot Heatmap\")\n",
    "\n",
    "# Save as png\n",
    "#plt.savefig('Correlation_heatmap.png', bbox_inches='tight')\n",
    "\n",
    "plt.show(sns.heatmap)"
   ]
  }
 ],
 "metadata": {
  "colab": {
   "collapsed_sections": [],
   "name": "ABA - Exploratory Data Analysis.ipynb",
   "provenance": []
  },
  "kernelspec": {
   "display_name": "Python 3",
   "language": "python",
   "name": "python3"
  },
  "language_info": {
   "codemirror_mode": {
    "name": "ipython",
    "version": 3
   },
   "file_extension": ".py",
   "mimetype": "text/x-python",
   "name": "python",
   "nbconvert_exporter": "python",
   "pygments_lexer": "ipython3",
   "version": "3.7.3"
  }
 },
 "nbformat": 4,
 "nbformat_minor": 1
}
